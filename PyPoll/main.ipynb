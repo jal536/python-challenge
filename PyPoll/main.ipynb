{
 "cells": [
  {
   "cell_type": "code",
   "execution_count": 1,
   "metadata": {},
   "outputs": [
    {
     "data": {
      "text/plain": [
       "'..\\\\Resources\\\\election_data.csv'"
      ]
     },
     "execution_count": 1,
     "metadata": {},
     "output_type": "execute_result"
    }
   ],
   "source": [
    "import os\n",
    "import csv\n",
    "\n",
    "election_csv = os.path.join(\"..\", \"Resources\", \"election_data.csv\")\n",
    "#election_csv"
   ]
  },
  {
   "cell_type": "code",
   "execution_count": 2,
   "metadata": {},
   "outputs": [
    {
     "name": "stdout",
     "output_type": "stream",
     "text": [
      "CSV Header: ['Voter ID', 'County', 'Candidate']\n",
      "3521001\n",
      "{'Khan': 2218231, 'Correy': 704200, 'Li': 492940, \"O'Tooley\": 105630}\n"
     ]
    }
   ],
   "source": [
    "with open(election_csv, \"r\") as csvfile:\n",
    "\n",
    "    # CSV reader specifies delimiter and variable that holds contents\n",
    "    csvreader = csv.reader(csvfile, delimiter=',')\n",
    "    \n",
    "    # Read the header row first (skip this step if there is no header)\n",
    "    header = next(csvreader)\n",
    "    print(f\"CSV Header: {header}\")\n",
    "    \n",
    "    # Read each row of data after the header\n",
    "# The total number of votes cast\n",
    "    total_votes = 0\n",
    "    voter_index = []\n",
    "    candidateVotes = {}\n",
    "    for row in csvreader:\n",
    "        candidateName = row[2]\n",
    "        voter_index.append(row[0])\n",
    "        total_votes += 1\n",
    "#The total number of votes each candidate won        \n",
    "        if candidateName not in candidateVotes.keys():\n",
    "            candidateVotes[candidateName] = 1\n",
    "        else:\n",
    "            candidateVotes[candidateName] += 1\n",
    "\n",
    "   # print(total_votes)\n",
    "   # print(candidateVotes)"
   ]
  },
  {
   "cell_type": "code",
   "execution_count": 3,
   "metadata": {},
   "outputs": [
    {
     "name": "stdout",
     "output_type": "stream",
     "text": [
      "{'Khan': 63.00001050837531, 'Correy': 19.999994319797125, 'Li': 13.999996023857989, \"O'Tooley\": 2.999999147969569}\n"
     ]
    }
   ],
   "source": [
    "#The percentage of votes each candidate won\n",
    "    candidateVotePercentage = {}\n",
    "    for candidateName in candidateVotes.keys():\n",
    "        percentage = (candidateVotes[candidateName]/total_votes)*100\n",
    "        candidateVotePercentage[candidateName] = percentage\n",
    "\n",
    "    #print(candidateVotePercentage)"
   ]
  },
  {
   "cell_type": "code",
   "execution_count": 4,
   "metadata": {},
   "outputs": [],
   "source": [
    "#The winner of the election based on popular vote.\n",
    "    winningCandidate = sorted(candidateVotes, key=candidateVotes.get, reverse=True)[0]"
   ]
  },
  {
   "cell_type": "code",
   "execution_count": 5,
   "metadata": {},
   "outputs": [
    {
     "name": "stdout",
     "output_type": "stream",
     "text": [
      "Election Results\n",
      "\n",
      "Total Votes: 3521001\n",
      "-------------------------\n",
      "Khan: 63.0% (2218231)\n",
      "Correy: 20.0% (704200)\n",
      "Li: 14.0% (492940)\n",
      "O'Tooley: 3.0% (105630)\n",
      "-------------------------\n",
      "Winner: Khan\n",
      "-------------------------\n"
     ]
    }
   ],
   "source": [
    "    print(\"Election Results\")\n",
    "    print(\"\")\n",
    "    print(\"Total Votes: \"+str(total_votes))\n",
    "    print(\"-------------------------\")\n",
    "\n",
    "    for candidateName in sorted(candidateVotes, key=candidateVotes.get, reverse=True):\n",
    "        print(candidateName + \": \" + str(round(candidateVotePercentage[candidateName], 3))+\"% \"+\"(\" + str(candidateVotes[candidateName])+\")\")\n",
    "    \n",
    "    print(\"-------------------------\")\n",
    "    print(\"Winner: \" + winningCandidate)\n",
    "    print(\"-------------------------\")"
   ]
  },
  {
   "cell_type": "code",
   "execution_count": null,
   "metadata": {},
   "outputs": [],
   "source": []
  }
 ],
 "metadata": {
  "kernelspec": {
   "display_name": "Conda [PythonData]",
   "language": "python",
   "name": "pythondata"
  },
  "language_info": {
   "codemirror_mode": {
    "name": "ipython",
    "version": 3
   },
   "file_extension": ".py",
   "mimetype": "text/x-python",
   "name": "python",
   "nbconvert_exporter": "python",
   "pygments_lexer": "ipython3",
   "version": "3.6.9"
  }
 },
 "nbformat": 4,
 "nbformat_minor": 2
}
