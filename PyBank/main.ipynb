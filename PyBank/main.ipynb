{
 "cells": [
  {
   "cell_type": "code",
   "execution_count": 35,
   "metadata": {},
   "outputs": [
    {
     "data": {
      "text/plain": [
       "'..\\\\Resources\\\\budget_data.csv'"
      ]
     },
     "execution_count": 35,
     "metadata": {},
     "output_type": "execute_result"
    }
   ],
   "source": [
    "import os\n",
    "import csv\n",
    "\n",
    "budget_data = os.path.join(\"..\", \"Resources\", \"budget_data.csv\")\n",
    "budget_data"
   ]
  },
  {
   "cell_type": "code",
   "execution_count": 36,
   "metadata": {},
   "outputs": [],
   "source": [
    "date_id = []\n",
    "profit_id = []"
   ]
  },
  {
   "cell_type": "code",
   "execution_count": 43,
   "metadata": {},
   "outputs": [
    {
     "name": "stdout",
     "output_type": "stream",
     "text": [
      "CSV Header: ['Date', 'Profit/Losses']\n"
     ]
    }
   ],
   "source": [
    "with open(budget_data, \"r\") as csvfile:\n",
    "\n",
    "    # CSV reader specifies delimiter and variable that holds contents\n",
    "    csvreader = csv.reader(csvfile, delimiter=',')\n",
    "    \n",
    "    # Read the header row first (skip this step if there is no header)\n",
    "    header = next(csvreader)\n",
    "    print(f\"CSV Header: {header}\")\n",
    "        \n",
    "    # Read each row of data after the header\n",
    "#The total number of months included in the dataset\n",
    "    months = 0\n",
    "    for row in csvreader:\n",
    "        date_id.append(row[0])\n",
    "        profit_id.append(row[1])\n",
    "        months += 1\n",
    "       # print(months)"
   ]
  },
  {
   "cell_type": "code",
   "execution_count": 39,
   "metadata": {},
   "outputs": [],
   "source": [
    "#The net total amount of \"Profit/Losses\" over the entire period\n",
    "totalprofit = 0\n",
    "for i in profit_id:\n",
    "    totalprofit += int(i)\n",
    "    #print(totalprofit)"
   ]
  },
  {
   "cell_type": "code",
   "execution_count": 40,
   "metadata": {},
   "outputs": [
    {
     "name": "stdout",
     "output_type": "stream",
     "text": [
      "892618.0930232558\n"
     ]
    }
   ],
   "source": [
    "#The average of the changes in \"Profit/Losses\" over the entire period\n",
    "avg_change = (totalprofit/months)\n",
    "print(avg_change)"
   ]
  },
  {
   "cell_type": "code",
   "execution_count": 44,
   "metadata": {},
   "outputs": [
    {
     "name": "stdout",
     "output_type": "stream",
     "text": [
      "1170593 Feb-2012 -1196225 Sep-2013\n"
     ]
    }
   ],
   "source": [
    "#The greatest increase in profits (date and amount) over the entire period\n",
    "#The greatest decrease in losses (date and amount) over the entire period\n",
    "profit_id = list(map(int, profit_id))\n",
    "date_id = list(map(str, date_id))\n",
    "for i in range(len(profit_id)):\n",
    "    if profit_id[i] >= max_inc:\n",
    "        max_inc = profit_id[i]\n",
    "        max_inc_date = date_id[i]\n",
    "    elif profit_id[i] <= max_dec:\n",
    "        max_dec = profit_id[i]\n",
    "        max_dec_date = date_id[i]\n",
    "\n",
    "print(max_inc, max_inc_date, max_dec, max_dec_date)"
   ]
  },
  {
   "cell_type": "code",
   "execution_count": null,
   "metadata": {},
   "outputs": [],
   "source": []
  }
 ],
 "metadata": {
  "kernelspec": {
   "display_name": "Conda [PythonData]",
   "language": "python",
   "name": "pythondata"
  },
  "language_info": {
   "codemirror_mode": {
    "name": "ipython",
    "version": 3
   },
   "file_extension": ".py",
   "mimetype": "text/x-python",
   "name": "python",
   "nbconvert_exporter": "python",
   "pygments_lexer": "ipython3",
   "version": "3.6.9"
  }
 },
 "nbformat": 4,
 "nbformat_minor": 2
}
