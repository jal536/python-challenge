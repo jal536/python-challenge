{
 "cells": [
  {
   "cell_type": "code",
   "execution_count": 1,
   "metadata": {},
   "outputs": [
    {
     "data": {
      "text/plain": [
       "'Resources\\\\budget_data.csv'"
      ]
     },
     "execution_count": 1,
     "metadata": {},
     "output_type": "execute_result"
    }
   ],
   "source": [
    "import os\n",
    "import csv\n",
    "\n",
    "budget_data = os.path.join(\"Resources\", \"budget_data.csv\")\n",
    "budget_data"
   ]
  },
  {
   "cell_type": "code",
   "execution_count": 2,
   "metadata": {},
   "outputs": [],
   "source": [
    "date_id = []\n",
    "profit_id = []"
   ]
  },
  {
   "cell_type": "code",
   "execution_count": 3,
   "metadata": {},
   "outputs": [
    {
     "name": "stdout",
     "output_type": "stream",
     "text": [
      "CSV Header: ['Date', 'Profit/Losses']\n"
     ]
    }
   ],
   "source": [
    "with open(budget_data, \"r\") as csvfile:\n",
    "\n",
    "    # CSV reader specifies delimiter and variable that holds contents\n",
    "    csvreader = csv.reader(csvfile, delimiter=',')\n",
    "    \n",
    "    # Read the header row first (skip this step if there is no header)\n",
    "    header = next(csvreader)\n",
    "    print(f\"CSV Header: {header}\")\n",
    "        \n",
    "    # Read each row of data after the header\n",
    "#The total number of months included in the dataset\n",
    "    months = 0\n",
    "    for row in csvreader:\n",
    "        date_id.append(row[0])\n",
    "        profit_id.append(row[1])\n",
    "        months += 1\n",
    "       # print(months)"
   ]
  },
  {
   "cell_type": "code",
   "execution_count": 4,
   "metadata": {},
   "outputs": [],
   "source": [
    "#The net total amount of \"Profit/Losses\" over the entire period\n",
    "totalprofit = 0\n",
    "for i in profit_id:\n",
    "    totalprofit += int(i)\n",
    "    #print(i)"
   ]
  },
  {
   "cell_type": "code",
   "execution_count": 5,
   "metadata": {},
   "outputs": [],
   "source": [
    "#The greatest increase in profits (date and amount) over the entire period\n",
    "#The greatest decrease in losses (date and amount) over the entire period\n",
    "\n",
    "max_inc = 0\n",
    "max_dec = 0\n",
    "inc_date = \"\"\n",
    "dec_date = \"\"\n",
    "\n",
    "changeTotal = 0\n",
    "\n",
    "for i in range(len(profit_id) - 1):\n",
    "    changeValue = int(profit_id[i+1]) - int(profit_id[i])\n",
    "    changeTotal += changeValue\n",
    "    if (changeValue > 0):\n",
    "        if changeValue > max_inc:\n",
    "            max_inc = changeValue\n",
    "            inc_date = date_id[i+1]\n",
    "    else:\n",
    "        if changeValue < max_dec:\n",
    "            max_dec = changeValue\n",
    "            dec_date = date_id[i+1]\n",
    "    #print(changeValue)\n",
    "\n",
    "#print(\"increase: \", max_inc, inc_date)\n",
    "#print(\"decrease: \", max_dec, dec_date)"
   ]
  },
  {
   "cell_type": "code",
   "execution_count": 6,
   "metadata": {},
   "outputs": [
    {
     "name": "stdout",
     "output_type": "stream",
     "text": [
      "Financial Analysis\n",
      "----------------------------\n",
      "Total Months: 86\n",
      "Total Profit/Losses: $38382578\n",
      "Average Change: $-2315.12\n",
      "Greatest Increase in Profits: Feb-2012 ($1926159)\n",
      "Greatest Decrease in Profits: Sep-2013 ($-2196167)\n"
     ]
    }
   ],
   "source": [
    "print(\"Financial Analysis\")\n",
    "print(\"----------------------------\")\n",
    "print(\"Total Months: \" + str(months))\n",
    "print(\"Total Profit/Losses: \" + \"$\" + str(round(totalprofit, 2)))\n",
    "print(\"Average Change: \" + \"$\" + str(round(changeTotal/(months - 1), 2)))\n",
    "print(\"Greatest Increase in Profits: \" + inc_date + \" ($\" + str(max_inc) + \")\")\n",
    "print(\"Greatest Decrease in Profits: \" + dec_date + \" ($\" + str(max_dec) + \")\")"
   ]
  },
  {
   "cell_type": "code",
   "execution_count": null,
   "metadata": {},
   "outputs": [],
   "source": []
  },
  {
   "cell_type": "code",
   "execution_count": null,
   "metadata": {},
   "outputs": [],
   "source": []
  }
 ],
 "metadata": {
  "kernelspec": {
   "display_name": "Conda [PythonData]",
   "language": "python",
   "name": "pythondata"
  },
  "language_info": {
   "codemirror_mode": {
    "name": "ipython",
    "version": 3
   },
   "file_extension": ".py",
   "mimetype": "text/x-python",
   "name": "python",
   "nbconvert_exporter": "python",
   "pygments_lexer": "ipython3",
   "version": "3.6.9"
  }
 },
 "nbformat": 4,
 "nbformat_minor": 2
}
